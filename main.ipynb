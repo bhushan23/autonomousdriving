{
 "cells": [
  {
   "cell_type": "code",
   "execution_count": null,
   "metadata": {},
   "outputs": [],
   "source": [
    "import numpy as np\n",
    "import pandas as pd\n",
    "import cv2\n",
    "import matplotlib.pyplot as plt\n",
    "\n",
    "import torch\n",
    "import torchvision\n",
    "import torchvision.transforms as transforms\n",
    "\n",
    "from torch.autograd import Variable\n",
    "import torch.nn as nn\n",
    "import torch.nn.functional as F\n",
    "import glob"
   ]
  },
  {
   "cell_type": "markdown",
   "metadata": {},
   "source": [
    "#### Helper methods"
   ]
  },
  {
   "cell_type": "code",
   "execution_count": null,
   "metadata": {},
   "outputs": [],
   "source": [
    "def get_measurements(file):\n",
    "    df = pd.read_csv(file, names=['loc1', 'loc2', 'speed', 'c_v', 'c_p', 'c_o', 'other', 'off_road', 'agents', 'throttle', 'steer'], index_col=None)\n",
    "    speed = pd.to_numeric(df['speed'].str[:-4], downcast='float')\n",
    "    throttle = pd.to_numeric(df['throttle'].str[10:], downcast='float')\n",
    "    steer = pd.to_numeric(df['steer'].str[7:], downcast='float')\n",
    "    return speed.tolist(),throttle.tolist(),steer.tolist()"
   ]
  },
  {
   "cell_type": "markdown",
   "metadata": {},
   "source": [
    "#### Data parsing"
   ]
  },
  {
   "cell_type": "code",
   "execution_count": 34,
   "metadata": {},
   "outputs": [],
   "source": [
    "measure_path = \"/home/mihir/Downloads/CARLA_0.8.2/PythonClient/_out/measurements/\"\n",
    "\n",
    "# Loading measurement data\n",
    "speed_arr = []\n",
    "throttle_arr = []\n",
    "steer_arr = []\n",
    "\n",
    "# for file in glob.glob(path):\n",
    "for i in range(97):\n",
    "    with open(measure_path+str(i)+\".txt\") as file:\n",
    "        speed,throttle,steer = get_measurements(file)\n",
    "        speed_arr += (speed)\n",
    "        throttle_arr += (throttle)\n",
    "        steer_arr += (steer)\n",
    "        \n",
    "# Loading image data\n",
    "img_dir_path = \"/home/mihir/Downloads/CARLA_0.8.2/PythonClient/_out/episode*\"\n",
    "img_path = \"/CameraRGB/*.png\"\n",
    "\n",
    "\n",
    "episode_num_arr = []\n",
    "img_path_arr = []\n",
    "for directory in sorted(glob.glob(img_dir_path)):\n",
    "    episode_num = str(directory[-4:])\n",
    "    for img in sorted(glob.glob(directory+img_path)):\n",
    "        episode_num_arr.append(episode_num)\n",
    "        img_path_arr.append(img)    \n"
   ]
  },
  {
   "cell_type": "markdown",
   "metadata": {},
   "source": [
    "#### Model"
   ]
  },
  {
   "cell_type": "code",
   "execution_count": null,
   "metadata": {},
   "outputs": [],
   "source": []
  },
  {
   "cell_type": "code",
   "execution_count": null,
   "metadata": {},
   "outputs": [],
   "source": []
  }
 ],
 "metadata": {
  "kernelspec": {
   "display_name": "Python 3",
   "language": "python",
   "name": "python3"
  },
  "language_info": {
   "codemirror_mode": {
    "name": "ipython",
    "version": 3
   },
   "file_extension": ".py",
   "mimetype": "text/x-python",
   "name": "python",
   "nbconvert_exporter": "python",
   "pygments_lexer": "ipython3",
   "version": "3.6.6"
  }
 },
 "nbformat": 4,
 "nbformat_minor": 2
}
