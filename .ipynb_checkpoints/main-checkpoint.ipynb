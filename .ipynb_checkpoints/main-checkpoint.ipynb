{
 "cells": [
  {
   "cell_type": "code",
   "execution_count": null,
   "metadata": {},
   "outputs": [],
   "source": [
    "import numpy as np\n",
    "import pandas as pd\n",
    "import cv2\n",
    "import matplotlib.pyplot as plt\n",
    "\n",
    "import torch\n",
    "import torchvision\n",
    "import torchvision.transforms as transforms\n",
    "\n",
    "from torch.autograd import Variable\n",
    "import torch.nn as nn\n",
    "import torch.nn.functional as F\n",
    "import glob"
   ]
  },
  {
   "cell_type": "markdown",
   "metadata": {},
   "source": [
    "#### Helper methods"
   ]
  },
  {
   "cell_type": "code",
   "execution_count": null,
   "metadata": {},
   "outputs": [],
   "source": [
    "def get_measurements(file):\n",
    "    df = pd.read_csv(file, names=['loc1', 'loc2', 'speed', 'c_v', 'c_p', 'c_o', 'other', 'off_road', 'agents', 'throttle', 'steer'], index_col=None)\n",
    "    speed = pd.to_numeric(df['speed'].str[:-4], downcast='float')\n",
    "    throttle = pd.to_numeric(df['throttle'].str[10:], downcast='float')\n",
    "    steer = pd.to_numeric(df['steer'].str[7:], downcast='float')\n",
    "    return speed.tolist(),throttle.tolist(),steer.tolist()"
   ]
  },
  {
   "cell_type": "markdown",
   "metadata": {},
   "source": [
    "#### Data parsing"
   ]
  },
  {
   "cell_type": "code",
   "execution_count": 35,
   "metadata": {},
   "outputs": [],
   "source": [
    "measure_path = \"/home/mihir/Downloads/CARLA_0.8.2/PythonClient/_out/measurements/\"\n",
    "\n",
    "# Loading measurement data\n",
    "speed_arr = []\n",
    "throttle_arr = []\n",
    "steer_arr = []\n",
    "\n",
    "# for file in glob.glob(path):\n",
    "for i in range(97):\n",
    "    with open(measure_path+str(i)+\".txt\") as file:\n",
    "        speed,throttle,steer = get_measurements(file)\n",
    "        speed_arr += (speed)\n",
    "        throttle_arr += (throttle)\n",
    "        steer_arr += (steer)\n",
    "        \n",
    "# Loading image data\n",
    "img_dir_path = \"/home/mihir/Downloads/CARLA_0.8.2/PythonClient/_out/episode*\"\n",
    "img_path = \"/CameraRGB/*.png\"\n",
    "\n",
    "\n",
    "episode_num_arr = []\n",
    "img_path_arr = []\n",
    "for directory in sorted(glob.glob(img_dir_path)):\n",
    "    episode_num = str(directory[-4:])\n",
    "    for img in sorted(glob.glob(directory+img_path)):\n",
    "        episode_num_arr.append(episode_num)\n",
    "        img_path_arr.append(img)    "
   ]
  },
  {
   "cell_type": "code",
   "execution_count": 38,
   "metadata": {},
   "outputs": [],
   "source": [
    "# Creating dataframe: episode_number, center_image_path, steer, speed, throttle\n",
    "df = pd.DataFrame(list(zip(episode_num_arr, img_path_arr, steer_arr, speed_arr, throttle_arr)), columns=['episode_number', 'center','steer','speed','throttle'])\n",
    "# Writing to CSV\n",
    "df.to_csv(\"train.csv\")"
   ]
  },
  {
   "cell_type": "code",
   "execution_count": 37,
   "metadata": {},
   "outputs": [
    {
     "data": {
      "text/html": [
       "<div>\n",
       "<style scoped>\n",
       "    .dataframe tbody tr th:only-of-type {\n",
       "        vertical-align: middle;\n",
       "    }\n",
       "\n",
       "    .dataframe tbody tr th {\n",
       "        vertical-align: top;\n",
       "    }\n",
       "\n",
       "    .dataframe thead th {\n",
       "        text-align: right;\n",
       "    }\n",
       "</style>\n",
       "<table border=\"1\" class=\"dataframe\">\n",
       "  <thead>\n",
       "    <tr style=\"text-align: right;\">\n",
       "      <th></th>\n",
       "      <th>episode_number</th>\n",
       "      <th>center</th>\n",
       "      <th>steer</th>\n",
       "      <th>speed</th>\n",
       "      <th>throttle</th>\n",
       "    </tr>\n",
       "  </thead>\n",
       "  <tbody>\n",
       "    <tr>\n",
       "      <th>0</th>\n",
       "      <td>0000</td>\n",
       "      <td>/home/mihir/Downloads/CARLA_0.8.2/PythonClient...</td>\n",
       "      <td>-0.000073</td>\n",
       "      <td>0.0</td>\n",
       "      <td>1.0</td>\n",
       "    </tr>\n",
       "    <tr>\n",
       "      <th>1</th>\n",
       "      <td>0000</td>\n",
       "      <td>/home/mihir/Downloads/CARLA_0.8.2/PythonClient...</td>\n",
       "      <td>-0.000073</td>\n",
       "      <td>0.0</td>\n",
       "      <td>1.0</td>\n",
       "    </tr>\n",
       "    <tr>\n",
       "      <th>2</th>\n",
       "      <td>0000</td>\n",
       "      <td>/home/mihir/Downloads/CARLA_0.8.2/PythonClient...</td>\n",
       "      <td>-0.000073</td>\n",
       "      <td>0.0</td>\n",
       "      <td>1.0</td>\n",
       "    </tr>\n",
       "    <tr>\n",
       "      <th>3</th>\n",
       "      <td>0000</td>\n",
       "      <td>/home/mihir/Downloads/CARLA_0.8.2/PythonClient...</td>\n",
       "      <td>-0.000073</td>\n",
       "      <td>0.0</td>\n",
       "      <td>1.0</td>\n",
       "    </tr>\n",
       "    <tr>\n",
       "      <th>4</th>\n",
       "      <td>0000</td>\n",
       "      <td>/home/mihir/Downloads/CARLA_0.8.2/PythonClient...</td>\n",
       "      <td>-0.000073</td>\n",
       "      <td>0.0</td>\n",
       "      <td>1.0</td>\n",
       "    </tr>\n",
       "  </tbody>\n",
       "</table>\n",
       "</div>"
      ],
      "text/plain": [
       "  episode_number                                             center     steer  \\\n",
       "0           0000  /home/mihir/Downloads/CARLA_0.8.2/PythonClient... -0.000073   \n",
       "1           0000  /home/mihir/Downloads/CARLA_0.8.2/PythonClient... -0.000073   \n",
       "2           0000  /home/mihir/Downloads/CARLA_0.8.2/PythonClient... -0.000073   \n",
       "3           0000  /home/mihir/Downloads/CARLA_0.8.2/PythonClient... -0.000073   \n",
       "4           0000  /home/mihir/Downloads/CARLA_0.8.2/PythonClient... -0.000073   \n",
       "\n",
       "   speed  throttle  \n",
       "0    0.0       1.0  \n",
       "1    0.0       1.0  \n",
       "2    0.0       1.0  \n",
       "3    0.0       1.0  \n",
       "4    0.0       1.0  "
      ]
     },
     "execution_count": 37,
     "metadata": {},
     "output_type": "execute_result"
    }
   ],
   "source": [
    "df.head()"
   ]
  },
  {
   "cell_type": "markdown",
   "metadata": {},
   "source": [
    "#### Model"
   ]
  },
  {
   "cell_type": "code",
   "execution_count": null,
   "metadata": {},
   "outputs": [],
   "source": []
  },
  {
   "cell_type": "code",
   "execution_count": null,
   "metadata": {},
   "outputs": [],
   "source": []
  }
 ],
 "metadata": {
  "kernelspec": {
   "display_name": "Python 3",
   "language": "python",
   "name": "python3"
  },
  "language_info": {
   "codemirror_mode": {
    "name": "ipython",
    "version": 3
   },
   "file_extension": ".py",
   "mimetype": "text/x-python",
   "name": "python",
   "nbconvert_exporter": "python",
   "pygments_lexer": "ipython3",
   "version": "3.6.6"
  }
 },
 "nbformat": 4,
 "nbformat_minor": 2
}
